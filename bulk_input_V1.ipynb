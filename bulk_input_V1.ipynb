{
 "cells": [
  {
   "cell_type": "code",
   "execution_count": 3,
   "id": "8a047dad-e03a-4376-a250-4bca56cfc5c4",
   "metadata": {},
   "outputs": [
    {
     "name": "stdout",
     "output_type": "stream",
     "text": [
      "Created directory /home/haoxw/MEOwork/test/Fe3Tc2Ir3Ru8O32_1 and generated POSCAR at /home/haoxw/MEOwork/test/Fe3Tc2Ir3Ru8O32_1/POSCAR\n"
     ]
    }
   ],
   "source": [
    "import os\n",
    "from pymatgen.io.cif import CifParser\n",
    "from pymatgen.io.vasp import Poscar\n",
    "\n",
    "def create_folders_and_poscars(cif_directory):\n",
    "    \"\"\"\n",
    "    为目录中的每个 .cif 文件创建一个文件夹，并生成对应的 POSCAR 文件。\n",
    "\n",
    "    :param cif_directory: 包含 .cif 文件的目录\n",
    "    \"\"\"\n",
    "    # 遍历目录中的所有文件\n",
    "    for filename in os.listdir(cif_directory):\n",
    "        if filename.endswith(\".cif\"):\n",
    "            # 分离文件名和扩展名\n",
    "            basename = os.path.splitext(filename)[0]\n",
    "            # 创建对应的目录\n",
    "            new_dir = os.path.join(cif_directory, basename)\n",
    "            os.makedirs(new_dir, exist_ok=True)\n",
    "            \n",
    "            # 读取 .cif 文件并创建结构\n",
    "            cif_path = os.path.join(cif_directory, filename)\n",
    "            parser = CifParser(cif_path)\n",
    "            structure = parser.parse_structures(primitive=True)[0]  # 使用新方法并保留原始行为\n",
    "            \n",
    "            # 创建 POSCAR 文件\n",
    "            poscar = Poscar(structure)\n",
    "            poscar_path = os.path.join(new_dir, \"POSCAR\")\n",
    "            poscar.write_file(poscar_path)\n",
    "            \n",
    "            print(f\"Created directory {new_dir} and generated POSCAR at {poscar_path}\")\n",
    "\n",
    "\n",
    "\n",
    "# 使用示例\n",
    "cif_directory = '/home/haoxw/MEOwork/test'\n",
    "create_folders_and_poscars(cif_directory)\n"
   ]
  },
  {
   "cell_type": "code",
   "execution_count": 4,
   "id": "62e5b528-3be2-470e-a1b4-16d7bcb82e7d",
   "metadata": {},
   "outputs": [
    {
     "name": "stdout",
     "output_type": "stream",
     "text": [
      "Generated VASP files for /home/haoxw/MEOwork/test/Fe3Tc2Ir3Ru8O32_1/POSCAR\n"
     ]
    }
   ],
   "source": [
    "import os\n",
    "from pymatgen.io.vasp.inputs import Incar, Kpoints, Poscar, Potcar\n",
    "\n",
    "def generate_vasp_files_for_directory(test_directory):\n",
    "    for root, dirs, files in os.walk(test_directory):\n",
    "        for file in files:\n",
    "            if file == \"POSCAR\":\n",
    "                poscar_path = os.path.join(root, file)\n",
    "                structure = Poscar.from_file(poscar_path).structure\n",
    "\n",
    "                # 创建自定义的 INCAR\n",
    "                incar = Incar({\n",
    "                    \"ENCUT\": 520,\n",
    "                    \"ISMEAR\": -5,  # 使用 Gamma 点方法\n",
    "                    \"SIGMA\": 0.05,\n",
    "                    \"IBRION\": 2,\n",
    "                    \"ISIF\": 3,\n",
    "                    \"NSW\": 100\n",
    "                })\n",
    "\n",
    "                # 创建 Gamma 点的 KPOINTS\n",
    "                kpoints = Kpoints.gamma_automatic([3, 3, 3])\n",
    "\n",
    "                # 创建 POTCAR，假设使用 PBE 赝势\n",
    "                potcar = Potcar(symbols=[site.species_string for site in structure], functional=\"PBE\")\n",
    "\n",
    "                # 保存文件\n",
    "                incar.write_file(os.path.join(root, 'INCAR'))\n",
    "                kpoints.write_file(os.path.join(root, 'KPOINTS'))\n",
    "                potcar.write_file(os.path.join(root, 'POTCAR'))\n",
    "\n",
    "                print(f\"Generated VASP files for {poscar_path}\")\n",
    "\n",
    "# 指定 test 目录\n",
    "test_directory = \"/home/haoxw/MEOwork/test\"\n",
    "generate_vasp_files_for_directory(test_directory)\n"
   ]
  },
  {
   "cell_type": "code",
   "execution_count": 5,
   "id": "7e89e60e-f350-40af-b9b5-94d4ef489dc7",
   "metadata": {},
   "outputs": [
    {
     "name": "stdout",
     "output_type": "stream",
     "text": [
      "Copied '/home/haoxw/MEOwork/vasp-mu01.sh' to '/home/haoxw/MEOwork/test/Fe3Tc2Ir3Ru8O32_1/vasp-mu01.sh'\n"
     ]
    }
   ],
   "source": [
    "import os\n",
    "import shutil\n",
    "\n",
    "def distribute_shell_script(script_path, root_directory):\n",
    "    \"\"\"\n",
    "    将指定的 shell 脚本复制到包含 VASP 输入文件的每个目录中。\n",
    "\n",
    "    :param script_path: shell 脚本的完整路径\n",
    "    :param root_directory: 需要遍历的根目录\n",
    "    \"\"\"\n",
    "    # 确保脚本文件存在\n",
    "    if not os.path.isfile(script_path):\n",
    "        raise FileNotFoundError(f\"The script file '{script_path}' does not exist.\")\n",
    "\n",
    "    # 遍历目录\n",
    "    for subdir, dirs, files in os.walk(root_directory):\n",
    "        # 检查是否为 VASP 输入文件目录\n",
    "        if set(['INCAR', 'KPOINTS', 'POSCAR', 'POTCAR']).issubset(set(files)):\n",
    "            # 构建目标路径\n",
    "            target_script_path = os.path.join(subdir, os.path.basename(script_path))\n",
    "            # 复制文件\n",
    "            shutil.copy(script_path, target_script_path)\n",
    "            print(f\"Copied '{script_path}' to '{target_script_path}'\")\n",
    "\n",
    "# 使用示例\n",
    "script_path = '/home/haoxw/MEOwork/vasp-mu01.sh'\n",
    "root_directory = '/home/haoxw/MEOwork/test'\n",
    "distribute_shell_script(script_path, root_directory)\n"
   ]
  },
  {
   "cell_type": "code",
   "execution_count": null,
   "id": "93116ed9-fbb8-4cd0-894b-60348eaae3df",
   "metadata": {},
   "outputs": [],
   "source": []
  }
 ],
 "metadata": {
  "kernelspec": {
   "display_name": "Python 3 (ipykernel)",
   "language": "python",
   "name": "python3"
  },
  "language_info": {
   "codemirror_mode": {
    "name": "ipython",
    "version": 3
   },
   "file_extension": ".py",
   "mimetype": "text/x-python",
   "name": "python",
   "nbconvert_exporter": "python",
   "pygments_lexer": "ipython3",
   "version": "3.11.7"
  }
 },
 "nbformat": 4,
 "nbformat_minor": 5
}
